{
 "cells": [
  {
   "cell_type": "code",
   "execution_count": 1,
   "id": "cda4edbd",
   "metadata": {},
   "outputs": [
    {
     "name": "stdout",
     "output_type": "stream",
     "text": [
      "Collecting pyspark\n",
      "  Using cached pyspark-3.3.1-py2.py3-none-any.whl\n",
      "Collecting py4j==0.10.9.5\n",
      "  Using cached py4j-0.10.9.5-py2.py3-none-any.whl (199 kB)\n",
      "Installing collected packages: py4j, pyspark\n",
      "Successfully installed py4j-0.10.9.5 pyspark-3.3.1\n"
     ]
    }
   ],
   "source": [
    "!pip install pyspark"
   ]
  },
  {
   "cell_type": "code",
   "execution_count": 6,
   "id": "727916ff",
   "metadata": {},
   "outputs": [],
   "source": [
    "import pyspark\n",
    "from pyspark.sql import SparkSession"
   ]
  },
  {
   "cell_type": "code",
   "execution_count": 14,
   "id": "967a5677",
   "metadata": {},
   "outputs": [],
   "source": [
    "spark=SparkSession.builder.appName(\"MOCK_DATA.csv\").getOrCreate()"
   ]
  },
  {
   "cell_type": "code",
   "execution_count": 15,
   "id": "be3de510",
   "metadata": {},
   "outputs": [
    {
     "data": {
      "text/html": [
       "\n",
       "            <div>\n",
       "                <p><b>SparkSession - in-memory</b></p>\n",
       "                \n",
       "        <div>\n",
       "            <p><b>SparkContext</b></p>\n",
       "\n",
       "            <p><a href=\"http://192.168.0.115:4040\">Spark UI</a></p>\n",
       "\n",
       "            <dl>\n",
       "              <dt>Version</dt>\n",
       "                <dd><code>v3.3.1</code></dd>\n",
       "              <dt>Master</dt>\n",
       "                <dd><code>local[*]</code></dd>\n",
       "              <dt>AppName</dt>\n",
       "                <dd><code>MOCK_DATA.csv</code></dd>\n",
       "            </dl>\n",
       "        </div>\n",
       "        \n",
       "            </div>\n",
       "        "
      ],
      "text/plain": [
       "<pyspark.sql.session.SparkSession at 0x7fa6776e7670>"
      ]
     },
     "execution_count": 15,
     "metadata": {},
     "output_type": "execute_result"
    }
   ],
   "source": [
    "spark"
   ]
  },
  {
   "cell_type": "code",
   "execution_count": 30,
   "id": "5b995ee2",
   "metadata": {},
   "outputs": [],
   "source": [
    "#reading the dataset \n",
    "df_pyspark=spark.read.option('header','true').csv('MOCK_DATA.csv',inferSchema=True)"
   ]
  },
  {
   "cell_type": "code",
   "execution_count": 31,
   "id": "9c1a707b",
   "metadata": {},
   "outputs": [
    {
     "name": "stdout",
     "output_type": "stream",
     "text": [
      "root\n",
      " |-- id: integer (nullable = true)\n",
      " |-- first_name: string (nullable = true)\n",
      " |-- last_name: string (nullable = true)\n",
      " |-- email: string (nullable = true)\n",
      " |-- gender: string (nullable = true)\n",
      " |-- ip_address: string (nullable = true)\n",
      "\n"
     ]
    }
   ],
   "source": [
    "#check the data schema \n",
    "df_pyspark.printSchema()"
   ]
  },
  {
   "cell_type": "code",
   "execution_count": 32,
   "id": "c13637f3",
   "metadata": {},
   "outputs": [],
   "source": [
    "df_spark=spark.read.csv(\"MOCK_DATA.csv\",header =True,inferSchema=True)"
   ]
  },
  {
   "cell_type": "code",
   "execution_count": 33,
   "id": "e2151c48",
   "metadata": {},
   "outputs": [
    {
     "name": "stdout",
     "output_type": "stream",
     "text": [
      "+---+----------+-----------+--------------------+-----------+---------------+\n",
      "| id|first_name|  last_name|               email|     gender|     ip_address|\n",
      "+---+----------+-----------+--------------------+-----------+---------------+\n",
      "|  1|       Ava|        Ede| aede0@discovery.com|Genderqueer|145.255.246.166|\n",
      "|  2|   Marylin|    Riggott|   mriggott1@npr.org|    Agender| 247.13.134.128|\n",
      "|  3|     Caryn|      Seals|cseals2@yellowpag...|     Female| 108.128.91.174|\n",
      "|  4|   Danella| MacConnell|dmacconnell3@reve...|     Female|  171.17.172.62|\n",
      "|  5|    Lesley|  Crookston| lcrookston4@psu.edu|     Female|  177.22.46.137|\n",
      "|  6|   Guthrie|   Coppock.|   gcoppock5@last.fm|       Male|  226.51.108.38|\n",
      "|  7|    Kaylee|    Claxton|kclaxton6@amazon....|     Female|   54.29.137.68|\n",
      "|  8|  Celestia|     Aldren|caldren7@slashdot...|     Female| 238.24.194.134|\n",
      "|  9|       Kim|   Alenikov|kalenikov8@macrom...|       Male| 131.168.221.50|\n",
      "| 10|      Nona|     Menloe|  nmenloe9@goo.ne.jp|     Female|113.215.167.138|\n",
      "| 11|       Joe|  Aynscombe| jaynscombea@who.int|       Male| 167.231.45.104|\n",
      "| 12|     Tonie|     Riches|   trichesb@java.com|     Female| 114.154.85.226|\n",
      "| 13|     Arlen|     Gwyllt| agwylltc@smh.com.au|       Male|   99.29.99.168|\n",
      "| 14|       Lee|   Groneway|lgronewayd@cpanel...|     Female|238.240.163.120|\n",
      "| 15|      Toni|   Dombrell|  tdombrelle@ihg.com|     Female|    72.51.37.98|\n",
      "| 16|     Salli|Marchington|smarchingtonf@stu...| Polygender|239.109.234.212|\n",
      "| 17|     Karil|      Tyler|      ktylerg@qq.com|     Female|   32.64.11.146|\n",
      "| 18|   Jourdan|   Chrystie|jchrystieh@stumbl...|     Female|237.250.119.237|\n",
      "| 19|     Costa|     Le Leu|cleleui@microsoft...|       Male|120.116.181.245|\n",
      "| 20|    Delmer|      Aizik|  daizikj@taobao.com|       Male| 223.137.167.74|\n",
      "+---+----------+-----------+--------------------+-----------+---------------+\n",
      "only showing top 20 rows\n",
      "\n"
     ]
    }
   ],
   "source": [
    "df_pyspark.show()"
   ]
  },
  {
   "cell_type": "code",
   "execution_count": 34,
   "id": "3e6d83bd",
   "metadata": {},
   "outputs": [
    {
     "data": {
      "text/plain": [
       "pyspark.sql.dataframe.DataFrame"
      ]
     },
     "execution_count": 34,
     "metadata": {},
     "output_type": "execute_result"
    }
   ],
   "source": [
    "type(df_pyspark)"
   ]
  },
  {
   "cell_type": "code",
   "execution_count": 35,
   "id": "4cccd892",
   "metadata": {},
   "outputs": [
    {
     "data": {
      "text/plain": [
       "['id', 'first_name', 'last_name', 'email', 'gender', 'ip_address']"
      ]
     },
     "execution_count": 35,
     "metadata": {},
     "output_type": "execute_result"
    }
   ],
   "source": [
    "df_spark.columns"
   ]
  },
  {
   "cell_type": "code",
   "execution_count": 36,
   "id": "ae7d7605",
   "metadata": {},
   "outputs": [
    {
     "data": {
      "text/plain": [
       "Row(id=1, first_name='Ava', last_name='Ede', email='aede0@discovery.com', gender='Genderqueer', ip_address='145.255.246.166')"
      ]
     },
     "execution_count": 36,
     "metadata": {},
     "output_type": "execute_result"
    }
   ],
   "source": [
    "df_spark.head()\n"
   ]
  },
  {
   "cell_type": "code",
   "execution_count": 44,
   "id": "6f5361e4",
   "metadata": {},
   "outputs": [
    {
     "data": {
      "text/plain": [
       "[Row(last_name='Fromant'),\n",
       " Row(last_name='Giampietro'),\n",
       " Row(last_name='Purvis'),\n",
       " Row(last_name='McNirlan'),\n",
       " Row(last_name='Sprankling')]"
      ]
     },
     "execution_count": 44,
     "metadata": {},
     "output_type": "execute_result"
    }
   ],
   "source": [
    "df_pyspark.select(\"last_name\").tail(5)"
   ]
  },
  {
   "cell_type": "code",
   "execution_count": 40,
   "id": "dcbe4164",
   "metadata": {},
   "outputs": [
    {
     "name": "stdout",
     "output_type": "stream",
     "text": [
      "+----------+\n",
      "|first_name|\n",
      "+----------+\n",
      "|       Ava|\n",
      "|   Marylin|\n",
      "|     Caryn|\n",
      "|   Danella|\n",
      "|    Lesley|\n",
      "|   Guthrie|\n",
      "|    Kaylee|\n",
      "|  Celestia|\n",
      "|       Kim|\n",
      "|      Nona|\n",
      "|       Joe|\n",
      "|     Tonie|\n",
      "|     Arlen|\n",
      "|       Lee|\n",
      "|      Toni|\n",
      "|     Salli|\n",
      "|     Karil|\n",
      "|   Jourdan|\n",
      "|     Costa|\n",
      "|    Delmer|\n",
      "+----------+\n",
      "only showing top 20 rows\n",
      "\n"
     ]
    }
   ],
   "source": [
    "df_pyspark.select(\"first_name\").show()"
   ]
  },
  {
   "cell_type": "code",
   "execution_count": 46,
   "id": "8029d716",
   "metadata": {},
   "outputs": [
    {
     "name": "stdout",
     "output_type": "stream",
     "text": [
      "+-----------+----------+\n",
      "|  last_name|first_name|\n",
      "+-----------+----------+\n",
      "|        Ede|       Ava|\n",
      "|    Riggott|   Marylin|\n",
      "|      Seals|     Caryn|\n",
      "| MacConnell|   Danella|\n",
      "|  Crookston|    Lesley|\n",
      "|   Coppock.|   Guthrie|\n",
      "|    Claxton|    Kaylee|\n",
      "|     Aldren|  Celestia|\n",
      "|   Alenikov|       Kim|\n",
      "|     Menloe|      Nona|\n",
      "|  Aynscombe|       Joe|\n",
      "|     Riches|     Tonie|\n",
      "|     Gwyllt|     Arlen|\n",
      "|   Groneway|       Lee|\n",
      "|   Dombrell|      Toni|\n",
      "|Marchington|     Salli|\n",
      "|      Tyler|     Karil|\n",
      "|   Chrystie|   Jourdan|\n",
      "|     Le Leu|     Costa|\n",
      "|      Aizik|    Delmer|\n",
      "+-----------+----------+\n",
      "only showing top 20 rows\n",
      "\n"
     ]
    }
   ],
   "source": [
    "#picking  multiple columns \n",
    "df_spark.select([\"last_name\",\"first_name\"]).show()"
   ]
  },
  {
   "cell_type": "code",
   "execution_count": 50,
   "id": "50390847",
   "metadata": {},
   "outputs": [
    {
     "data": {
      "text/plain": [
       "Column<'last_name'>"
      ]
     },
     "execution_count": 50,
     "metadata": {},
     "output_type": "execute_result"
    }
   ],
   "source": [
    "df_pyspark[\"last_name\"]"
   ]
  },
  {
   "cell_type": "code",
   "execution_count": 52,
   "id": "550e3c8a",
   "metadata": {},
   "outputs": [
    {
     "data": {
      "text/plain": [
       "[('id', 'int'),\n",
       " ('first_name', 'string'),\n",
       " ('last_name', 'string'),\n",
       " ('email', 'string'),\n",
       " ('gender', 'string'),\n",
       " ('ip_address', 'string')]"
      ]
     },
     "execution_count": 52,
     "metadata": {},
     "output_type": "execute_result"
    }
   ],
   "source": [
    "df_pyspark.dtypes"
   ]
  },
  {
   "cell_type": "code",
   "execution_count": null,
   "id": "37d82a30",
   "metadata": {},
   "outputs": [],
   "source": []
  },
  {
   "cell_type": "code",
   "execution_count": null,
   "id": "21cde7d7",
   "metadata": {},
   "outputs": [],
   "source": []
  },
  {
   "cell_type": "code",
   "execution_count": null,
   "id": "6aae8d10",
   "metadata": {},
   "outputs": [],
   "source": []
  },
  {
   "cell_type": "code",
   "execution_count": null,
   "id": "a8f5b748",
   "metadata": {},
   "outputs": [],
   "source": []
  },
  {
   "cell_type": "code",
   "execution_count": null,
   "id": "24416354",
   "metadata": {},
   "outputs": [],
   "source": []
  }
 ],
 "metadata": {
  "kernelspec": {
   "display_name": "Python 3 (ipykernel)",
   "language": "python",
   "name": "python3"
  },
  "language_info": {
   "codemirror_mode": {
    "name": "ipython",
    "version": 3
   },
   "file_extension": ".py",
   "mimetype": "text/x-python",
   "name": "python",
   "nbconvert_exporter": "python",
   "pygments_lexer": "ipython3",
   "version": "3.9.13"
  }
 },
 "nbformat": 4,
 "nbformat_minor": 5
}
