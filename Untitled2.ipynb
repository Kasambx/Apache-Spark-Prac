{
 "cells": [
  {
   "cell_type": "code",
   "execution_count": 1,
   "id": "a2b2e9f2",
   "metadata": {},
   "outputs": [
    {
     "name": "stdout",
     "output_type": "stream",
     "text": [
      "Requirement already satisfied: pyspark in ./anaconda3/lib/python3.9/site-packages (3.3.1)\r\n",
      "Requirement already satisfied: py4j==0.10.9.5 in ./anaconda3/lib/python3.9/site-packages (from pyspark) (0.10.9.5)\r\n"
     ]
    }
   ],
   "source": [
    "!pip install pyspark"
   ]
  },
  {
   "cell_type": "code",
   "execution_count": 2,
   "id": "1f56ae39",
   "metadata": {},
   "outputs": [],
   "source": [
    "import pyspark\n",
    "from pyspark.sql import SparkSession"
   ]
  },
  {
   "cell_type": "code",
   "execution_count": 12,
   "id": "a8eba3f6",
   "metadata": {},
   "outputs": [],
   "source": [
    "spark=SparkSession.builder.appName(\"MOCK_DATA.csv\").getOrCreate()"
   ]
  },
  {
   "cell_type": "code",
   "execution_count": 13,
   "id": "5defd275",
   "metadata": {},
   "outputs": [
    {
     "data": {
      "text/html": [
       "\n",
       "            <div>\n",
       "                <p><b>SparkSession - in-memory</b></p>\n",
       "                \n",
       "        <div>\n",
       "            <p><b>SparkContext</b></p>\n",
       "\n",
       "            <p><a href=\"http://192.168.0.115:4040\">Spark UI</a></p>\n",
       "\n",
       "            <dl>\n",
       "              <dt>Version</dt>\n",
       "                <dd><code>v3.3.1</code></dd>\n",
       "              <dt>Master</dt>\n",
       "                <dd><code>local[*]</code></dd>\n",
       "              <dt>AppName</dt>\n",
       "                <dd><code>MOCK_DATA.csv</code></dd>\n",
       "            </dl>\n",
       "        </div>\n",
       "        \n",
       "            </div>\n",
       "        "
      ],
      "text/plain": [
       "<pyspark.sql.session.SparkSession at 0x7f5cbbfcd0a0>"
      ]
     },
     "execution_count": 13,
     "metadata": {},
     "output_type": "execute_result"
    }
   ],
   "source": [
    "spark"
   ]
  },
  {
   "cell_type": "code",
   "execution_count": 14,
   "id": "1763b31e",
   "metadata": {},
   "outputs": [
    {
     "name": "stderr",
     "output_type": "stream",
     "text": [
      "                                                                                \r"
     ]
    }
   ],
   "source": [
    "df_pyspark = spark.read.csv(\"MOCK_DATA.csv\")"
   ]
  },
  {
   "cell_type": "code",
   "execution_count": 15,
   "id": "929c0dbe",
   "metadata": {},
   "outputs": [
    {
     "data": {
      "text/plain": [
       "DataFrame[_c0: string, _c1: string, _c2: string, _c3: string, _c4: string, _c5: string]"
      ]
     },
     "execution_count": 15,
     "metadata": {},
     "output_type": "execute_result"
    }
   ],
   "source": [
    "df_pyspark"
   ]
  },
  {
   "cell_type": "code",
   "execution_count": 93,
   "id": "549e4229",
   "metadata": {},
   "outputs": [
    {
     "data": {
      "text/plain": [
       "DataFrame[id: int, first_name: string, last_name: string, email: string, gender: string, ip_address: string]"
      ]
     },
     "execution_count": 93,
     "metadata": {},
     "output_type": "execute_result"
    }
   ],
   "source": [
    "spark.read.option(\"header\",\"true\").csv(\"MOCK_DATA.csv\",inferSchema=True)"
   ]
  },
  {
   "cell_type": "code",
   "execution_count": 17,
   "id": "444f27ba",
   "metadata": {},
   "outputs": [
    {
     "data": {
      "text/plain": [
       "pyspark.sql.dataframe.DataFrame"
      ]
     },
     "execution_count": 17,
     "metadata": {},
     "output_type": "execute_result"
    }
   ],
   "source": [
    "type(df_pyspark)"
   ]
  },
  {
   "cell_type": "code",
   "execution_count": 18,
   "id": "f5af4a1b",
   "metadata": {},
   "outputs": [
    {
     "data": {
      "text/plain": [
       "Row(_c0='id', _c1='first_name', _c2='last_name', _c3='email', _c4='gender', _c5='ip_address')"
      ]
     },
     "execution_count": 18,
     "metadata": {},
     "output_type": "execute_result"
    }
   ],
   "source": [
    "df_pyspark.head()"
   ]
  },
  {
   "cell_type": "code",
   "execution_count": 20,
   "id": "de96ec11",
   "metadata": {},
   "outputs": [
    {
     "name": "stdout",
     "output_type": "stream",
     "text": [
      "root\n",
      " |-- _c0: string (nullable = true)\n",
      " |-- _c1: string (nullable = true)\n",
      " |-- _c2: string (nullable = true)\n",
      " |-- _c3: string (nullable = true)\n",
      " |-- _c4: string (nullable = true)\n",
      " |-- _c5: string (nullable = true)\n",
      "\n"
     ]
    }
   ],
   "source": [
    "df_pyspark.printSchema()"
   ]
  },
  {
   "cell_type": "code",
   "execution_count": 61,
   "id": "a6b5f799",
   "metadata": {},
   "outputs": [],
   "source": [
    "df_pyspark = spark.read.csv(\"MOCK_DATA.csv\", header =True, inferSchema= True)"
   ]
  },
  {
   "cell_type": "code",
   "execution_count": 22,
   "id": "33d9eaad",
   "metadata": {},
   "outputs": [
    {
     "name": "stdout",
     "output_type": "stream",
     "text": [
      "root\n",
      " |-- id: integer (nullable = true)\n",
      " |-- first_name: string (nullable = true)\n",
      " |-- last_name: string (nullable = true)\n",
      " |-- email: string (nullable = true)\n",
      " |-- gender: string (nullable = true)\n",
      " |-- ip_address: string (nullable = true)\n",
      "\n"
     ]
    }
   ],
   "source": [
    "df_pyspark.printSchema()"
   ]
  },
  {
   "cell_type": "code",
   "execution_count": 23,
   "id": "c4013ff4",
   "metadata": {},
   "outputs": [
    {
     "data": {
      "text/plain": [
       "pyspark.sql.dataframe.DataFrame"
      ]
     },
     "execution_count": 23,
     "metadata": {},
     "output_type": "execute_result"
    }
   ],
   "source": [
    "type(df_pyspark)"
   ]
  },
  {
   "cell_type": "code",
   "execution_count": 24,
   "id": "10289e61",
   "metadata": {},
   "outputs": [
    {
     "data": {
      "text/plain": [
       "['id', 'first_name', 'last_name', 'email', 'gender', 'ip_address']"
      ]
     },
     "execution_count": 24,
     "metadata": {},
     "output_type": "execute_result"
    }
   ],
   "source": [
    "df_pyspark.columns"
   ]
  },
  {
   "cell_type": "code",
   "execution_count": 25,
   "id": "f15ca27b",
   "metadata": {},
   "outputs": [
    {
     "data": {
      "text/plain": [
       "[Row(id=1, first_name='Ava', last_name='Ede', email='aede0@discovery.com', gender='Genderqueer', ip_address='145.255.246.166'),\n",
       " Row(id=2, first_name='Marylin', last_name='Riggott', email='mriggott1@npr.org', gender='Agender', ip_address='247.13.134.128'),\n",
       " Row(id=3, first_name='Caryn', last_name='Seals', email='cseals2@yellowpages.com', gender='Female', ip_address='108.128.91.174'),\n",
       " Row(id=4, first_name='Danella', last_name='MacConnell', email='dmacconnell3@reverbnation.com', gender='Female', ip_address='171.17.172.62'),\n",
       " Row(id=5, first_name='Lesley', last_name='Crookston', email='lcrookston4@psu.edu', gender='Female', ip_address='177.22.46.137'),\n",
       " Row(id=6, first_name='Guthrie', last_name='Coppock.', email='gcoppock5@last.fm', gender='Male', ip_address='226.51.108.38'),\n",
       " Row(id=7, first_name='Kaylee', last_name='Claxton', email='kclaxton6@amazon.co.jp', gender='Female', ip_address='54.29.137.68')]"
      ]
     },
     "execution_count": 25,
     "metadata": {},
     "output_type": "execute_result"
    }
   ],
   "source": [
    "df_pyspark.head(7)"
   ]
  },
  {
   "cell_type": "code",
   "execution_count": 26,
   "id": "0c893ec5",
   "metadata": {},
   "outputs": [
    {
     "name": "stdout",
     "output_type": "stream",
     "text": [
      "+---+----------+-----------+--------------------+-----------+---------------+\n",
      "| id|first_name|  last_name|               email|     gender|     ip_address|\n",
      "+---+----------+-----------+--------------------+-----------+---------------+\n",
      "|  1|       Ava|        Ede| aede0@discovery.com|Genderqueer|145.255.246.166|\n",
      "|  2|   Marylin|    Riggott|   mriggott1@npr.org|    Agender| 247.13.134.128|\n",
      "|  3|     Caryn|      Seals|cseals2@yellowpag...|     Female| 108.128.91.174|\n",
      "|  4|   Danella| MacConnell|dmacconnell3@reve...|     Female|  171.17.172.62|\n",
      "|  5|    Lesley|  Crookston| lcrookston4@psu.edu|     Female|  177.22.46.137|\n",
      "|  6|   Guthrie|   Coppock.|   gcoppock5@last.fm|       Male|  226.51.108.38|\n",
      "|  7|    Kaylee|    Claxton|kclaxton6@amazon....|     Female|   54.29.137.68|\n",
      "|  8|  Celestia|     Aldren|caldren7@slashdot...|     Female| 238.24.194.134|\n",
      "|  9|       Kim|   Alenikov|kalenikov8@macrom...|       Male| 131.168.221.50|\n",
      "| 10|      Nona|     Menloe|  nmenloe9@goo.ne.jp|     Female|113.215.167.138|\n",
      "| 11|       Joe|  Aynscombe| jaynscombea@who.int|       Male| 167.231.45.104|\n",
      "| 12|     Tonie|     Riches|   trichesb@java.com|     Female| 114.154.85.226|\n",
      "| 13|     Arlen|     Gwyllt| agwylltc@smh.com.au|       Male|   99.29.99.168|\n",
      "| 14|       Lee|   Groneway|lgronewayd@cpanel...|     Female|238.240.163.120|\n",
      "| 15|      Toni|   Dombrell|  tdombrelle@ihg.com|     Female|    72.51.37.98|\n",
      "| 16|     Salli|Marchington|smarchingtonf@stu...| Polygender|239.109.234.212|\n",
      "| 17|     Karil|      Tyler|      ktylerg@qq.com|     Female|   32.64.11.146|\n",
      "| 18|   Jourdan|   Chrystie|jchrystieh@stumbl...|     Female|237.250.119.237|\n",
      "| 19|     Costa|     Le Leu|cleleui@microsoft...|       Male|120.116.181.245|\n",
      "| 20|    Delmer|      Aizik|  daizikj@taobao.com|       Male| 223.137.167.74|\n",
      "+---+----------+-----------+--------------------+-----------+---------------+\n",
      "only showing top 20 rows\n",
      "\n"
     ]
    }
   ],
   "source": [
    "df_pyspark.show()"
   ]
  },
  {
   "cell_type": "code",
   "execution_count": 27,
   "id": "f421b108",
   "metadata": {},
   "outputs": [
    {
     "name": "stdout",
     "output_type": "stream",
     "text": [
      "+----------+\n",
      "|first_name|\n",
      "+----------+\n",
      "|       Ava|\n",
      "|   Marylin|\n",
      "|     Caryn|\n",
      "|   Danella|\n",
      "|    Lesley|\n",
      "|   Guthrie|\n",
      "|    Kaylee|\n",
      "|  Celestia|\n",
      "|       Kim|\n",
      "|      Nona|\n",
      "|       Joe|\n",
      "|     Tonie|\n",
      "|     Arlen|\n",
      "|       Lee|\n",
      "|      Toni|\n",
      "|     Salli|\n",
      "|     Karil|\n",
      "|   Jourdan|\n",
      "|     Costa|\n",
      "|    Delmer|\n",
      "+----------+\n",
      "only showing top 20 rows\n",
      "\n"
     ]
    }
   ],
   "source": [
    "df_pyspark.select(\"first_name\").show()"
   ]
  },
  {
   "cell_type": "code",
   "execution_count": 28,
   "id": "2b7e5c54",
   "metadata": {},
   "outputs": [
    {
     "data": {
      "text/plain": [
       "pyspark.sql.dataframe.DataFrame"
      ]
     },
     "execution_count": 28,
     "metadata": {},
     "output_type": "execute_result"
    }
   ],
   "source": [
    "type(df_pyspark.select(\"first_name\"))"
   ]
  },
  {
   "cell_type": "code",
   "execution_count": 29,
   "id": "1808aede",
   "metadata": {},
   "outputs": [
    {
     "name": "stdout",
     "output_type": "stream",
     "text": [
      "+----------+-----------+\n",
      "|first_name|  last_name|\n",
      "+----------+-----------+\n",
      "|       Ava|        Ede|\n",
      "|   Marylin|    Riggott|\n",
      "|     Caryn|      Seals|\n",
      "|   Danella| MacConnell|\n",
      "|    Lesley|  Crookston|\n",
      "|   Guthrie|   Coppock.|\n",
      "|    Kaylee|    Claxton|\n",
      "|  Celestia|     Aldren|\n",
      "|       Kim|   Alenikov|\n",
      "|      Nona|     Menloe|\n",
      "|       Joe|  Aynscombe|\n",
      "|     Tonie|     Riches|\n",
      "|     Arlen|     Gwyllt|\n",
      "|       Lee|   Groneway|\n",
      "|      Toni|   Dombrell|\n",
      "|     Salli|Marchington|\n",
      "|     Karil|      Tyler|\n",
      "|   Jourdan|   Chrystie|\n",
      "|     Costa|     Le Leu|\n",
      "|    Delmer|      Aizik|\n",
      "+----------+-----------+\n",
      "only showing top 20 rows\n",
      "\n"
     ]
    }
   ],
   "source": [
    "df_pyspark.select([\"first_name\",\"last_name\"]).show()"
   ]
  },
  {
   "cell_type": "code",
   "execution_count": 30,
   "id": "33658491",
   "metadata": {},
   "outputs": [
    {
     "data": {
      "text/plain": [
       "pyspark.sql.dataframe.DataFrame"
      ]
     },
     "execution_count": 30,
     "metadata": {},
     "output_type": "execute_result"
    }
   ],
   "source": [
    "type(df_pyspark.select([\"first_name\",\"last_name\"]))"
   ]
  },
  {
   "cell_type": "code",
   "execution_count": 31,
   "id": "7e31c6b8",
   "metadata": {},
   "outputs": [
    {
     "data": {
      "text/plain": [
       "Column<'first_name'>"
      ]
     },
     "execution_count": 31,
     "metadata": {},
     "output_type": "execute_result"
    }
   ],
   "source": [
    "df_pyspark[\"first_name\"]"
   ]
  },
  {
   "cell_type": "code",
   "execution_count": 32,
   "id": "b882dcca",
   "metadata": {},
   "outputs": [
    {
     "data": {
      "text/plain": [
       "[('id', 'int'),\n",
       " ('first_name', 'string'),\n",
       " ('last_name', 'string'),\n",
       " ('email', 'string'),\n",
       " ('gender', 'string'),\n",
       " ('ip_address', 'string')]"
      ]
     },
     "execution_count": 32,
     "metadata": {},
     "output_type": "execute_result"
    }
   ],
   "source": [
    "df_pyspark.dtypes"
   ]
  },
  {
   "cell_type": "code",
   "execution_count": 33,
   "id": "a543020d",
   "metadata": {},
   "outputs": [
    {
     "name": "stderr",
     "output_type": "stream",
     "text": [
      "\r",
      "[Stage 10:>                                                         (0 + 1) / 1]\r"
     ]
    },
    {
     "name": "stdout",
     "output_type": "stream",
     "text": [
      "+-------+-----------------+----------+---------+--------------------+----------+-------------+\n",
      "|summary|               id|first_name|last_name|               email|    gender|   ip_address|\n",
      "+-------+-----------------+----------+---------+--------------------+----------+-------------+\n",
      "|  count|             1000|      1000|     1000|                1000|      1000|         1000|\n",
      "|   mean|            500.5|      null|     null|                null|      null|         null|\n",
      "| stddev|288.8194360957494|      null|     null|                null|      null|         null|\n",
      "|    min|                1|      Abbe|  Abraham|aandraudhc@dropbo...|   Agender| 0.209.33.211|\n",
      "|    max|             1000|     Zolly|Zylberdik|zsclanderseu@utex...|Polygender|99.74.153.136|\n",
      "+-------+-----------------+----------+---------+--------------------+----------+-------------+\n",
      "\n"
     ]
    },
    {
     "name": "stderr",
     "output_type": "stream",
     "text": [
      "\r",
      "                                                                                \r"
     ]
    }
   ],
   "source": [
    "df_pyspark.describe().show()"
   ]
  },
  {
   "cell_type": "code",
   "execution_count": 34,
   "id": "8e41ebda",
   "metadata": {},
   "outputs": [
    {
     "data": {
      "text/plain": [
       "[('id', 'int'),\n",
       " ('first_name', 'string'),\n",
       " ('last_name', 'string'),\n",
       " ('email', 'string'),\n",
       " ('gender', 'string'),\n",
       " ('ip_address', 'string')]"
      ]
     },
     "execution_count": 34,
     "metadata": {},
     "output_type": "execute_result"
    }
   ],
   "source": [
    "df_pyspark.dtypes"
   ]
  },
  {
   "cell_type": "code",
   "execution_count": 36,
   "id": "3b4829f8",
   "metadata": {},
   "outputs": [
    {
     "data": {
      "text/plain": [
       "DataFrame[summary: string, id: string, first_name: string, last_name: string, email: string, gender: string, ip_address: string]"
      ]
     },
     "execution_count": 36,
     "metadata": {},
     "output_type": "execute_result"
    }
   ],
   "source": [
    "df_pyspark.describe()"
   ]
  },
  {
   "cell_type": "code",
   "execution_count": 38,
   "id": "1b94b9f7",
   "metadata": {},
   "outputs": [
    {
     "name": "stdout",
     "output_type": "stream",
     "text": [
      "+-------+-----------------+----------+---------+--------------------+----------+-------------+\n",
      "|summary|               id|first_name|last_name|               email|    gender|   ip_address|\n",
      "+-------+-----------------+----------+---------+--------------------+----------+-------------+\n",
      "|  count|             1000|      1000|     1000|                1000|      1000|         1000|\n",
      "|   mean|            500.5|      null|     null|                null|      null|         null|\n",
      "| stddev|288.8194360957494|      null|     null|                null|      null|         null|\n",
      "|    min|                1|      Abbe|  Abraham|aandraudhc@dropbo...|   Agender| 0.209.33.211|\n",
      "|    max|             1000|     Zolly|Zylberdik|zsclanderseu@utex...|Polygender|99.74.153.136|\n",
      "+-------+-----------------+----------+---------+--------------------+----------+-------------+\n",
      "\n"
     ]
    }
   ],
   "source": [
    "df_pyspark.describe().show()"
   ]
  },
  {
   "cell_type": "code",
   "execution_count": 92,
   "id": "d96c4153",
   "metadata": {},
   "outputs": [
    {
     "name": "stdout",
     "output_type": "stream",
     "text": [
      "+---+----------+-----------+--------------------+-----------+---------------+------+\n",
      "| id|first_name|  last_name|               email|     gender|     ip_address|id + 2|\n",
      "+---+----------+-----------+--------------------+-----------+---------------+------+\n",
      "|  1|       Ava|        Ede| aede0@discovery.com|Genderqueer|145.255.246.166|     2|\n",
      "|  2|   Marylin|    Riggott|   mriggott1@npr.org|    Agender| 247.13.134.128|     3|\n",
      "|  3|     Caryn|      Seals|cseals2@yellowpag...|     Female| 108.128.91.174|     4|\n",
      "|  4|   Danella| MacConnell|dmacconnell3@reve...|     Female|  171.17.172.62|     5|\n",
      "|  5|    Lesley|  Crookston| lcrookston4@psu.edu|     Female|  177.22.46.137|     6|\n",
      "|  6|   Guthrie|   Coppock.|   gcoppock5@last.fm|       Male|  226.51.108.38|     7|\n",
      "|  7|    Kaylee|    Claxton|kclaxton6@amazon....|     Female|   54.29.137.68|     8|\n",
      "|  8|  Celestia|     Aldren|caldren7@slashdot...|     Female| 238.24.194.134|     9|\n",
      "|  9|       Kim|   Alenikov|kalenikov8@macrom...|       Male| 131.168.221.50|    10|\n",
      "| 10|      Nona|     Menloe|  nmenloe9@goo.ne.jp|     Female|113.215.167.138|    11|\n",
      "| 11|       Joe|  Aynscombe| jaynscombea@who.int|       Male| 167.231.45.104|    12|\n",
      "| 12|     Tonie|     Riches|   trichesb@java.com|     Female| 114.154.85.226|    13|\n",
      "| 13|     Arlen|     Gwyllt| agwylltc@smh.com.au|       Male|   99.29.99.168|    14|\n",
      "| 14|       Lee|   Groneway|lgronewayd@cpanel...|     Female|238.240.163.120|    15|\n",
      "| 15|      Toni|   Dombrell|  tdombrelle@ihg.com|     Female|    72.51.37.98|    16|\n",
      "| 16|     Salli|Marchington|smarchingtonf@stu...| Polygender|239.109.234.212|    17|\n",
      "| 17|     Karil|      Tyler|      ktylerg@qq.com|     Female|   32.64.11.146|    18|\n",
      "| 18|   Jourdan|   Chrystie|jchrystieh@stumbl...|     Female|237.250.119.237|    19|\n",
      "| 19|     Costa|     Le Leu|cleleui@microsoft...|       Male|120.116.181.245|    20|\n",
      "| 20|    Delmer|      Aizik|  daizikj@taobao.com|       Male| 223.137.167.74|    21|\n",
      "+---+----------+-----------+--------------------+-----------+---------------+------+\n",
      "only showing top 20 rows\n",
      "\n"
     ]
    }
   ],
   "source": [
    "#adding a column to a dataFrame\n",
    "df_spark = df_pyspark.withColumn(\"id + 2\", df_pyspark[\"id\"]+1).show()"
   ]
  },
  {
   "cell_type": "code",
   "execution_count": 86,
   "id": "0b7c6b84",
   "metadata": {},
   "outputs": [
    {
     "name": "stdout",
     "output_type": "stream",
     "text": [
      "+---+----------+-----------+--------------------+-----------+---------------+\n",
      "| id|first_name|  last_name|               email|     gender|     ip_address|\n",
      "+---+----------+-----------+--------------------+-----------+---------------+\n",
      "|  1|       Ava|        Ede| aede0@discovery.com|Genderqueer|145.255.246.166|\n",
      "|  2|   Marylin|    Riggott|   mriggott1@npr.org|    Agender| 247.13.134.128|\n",
      "|  3|     Caryn|      Seals|cseals2@yellowpag...|     Female| 108.128.91.174|\n",
      "|  4|   Danella| MacConnell|dmacconnell3@reve...|     Female|  171.17.172.62|\n",
      "|  5|    Lesley|  Crookston| lcrookston4@psu.edu|     Female|  177.22.46.137|\n",
      "|  6|   Guthrie|   Coppock.|   gcoppock5@last.fm|       Male|  226.51.108.38|\n",
      "|  7|    Kaylee|    Claxton|kclaxton6@amazon....|     Female|   54.29.137.68|\n",
      "|  8|  Celestia|     Aldren|caldren7@slashdot...|     Female| 238.24.194.134|\n",
      "|  9|       Kim|   Alenikov|kalenikov8@macrom...|       Male| 131.168.221.50|\n",
      "| 10|      Nona|     Menloe|  nmenloe9@goo.ne.jp|     Female|113.215.167.138|\n",
      "| 11|       Joe|  Aynscombe| jaynscombea@who.int|       Male| 167.231.45.104|\n",
      "| 12|     Tonie|     Riches|   trichesb@java.com|     Female| 114.154.85.226|\n",
      "| 13|     Arlen|     Gwyllt| agwylltc@smh.com.au|       Male|   99.29.99.168|\n",
      "| 14|       Lee|   Groneway|lgronewayd@cpanel...|     Female|238.240.163.120|\n",
      "| 15|      Toni|   Dombrell|  tdombrelle@ihg.com|     Female|    72.51.37.98|\n",
      "| 16|     Salli|Marchington|smarchingtonf@stu...| Polygender|239.109.234.212|\n",
      "| 17|     Karil|      Tyler|      ktylerg@qq.com|     Female|   32.64.11.146|\n",
      "| 18|   Jourdan|   Chrystie|jchrystieh@stumbl...|     Female|237.250.119.237|\n",
      "| 19|     Costa|     Le Leu|cleleui@microsoft...|       Male|120.116.181.245|\n",
      "| 20|    Delmer|      Aizik|  daizikj@taobao.com|       Male| 223.137.167.74|\n",
      "+---+----------+-----------+--------------------+-----------+---------------+\n",
      "only showing top 20 rows\n",
      "\n"
     ]
    }
   ],
   "source": [
    "df_pyspark.show()"
   ]
  },
  {
   "cell_type": "code",
   "execution_count": 94,
   "id": "c064800b",
   "metadata": {},
   "outputs": [
    {
     "name": "stdout",
     "output_type": "stream",
     "text": [
      "+---+----------+-----------+--------------------+-----------+---------------+\n",
      "| id|first_name|  last_name|               email|     gender|     ip_address|\n",
      "+---+----------+-----------+--------------------+-----------+---------------+\n",
      "|  1|       Ava|        Ede| aede0@discovery.com|Genderqueer|145.255.246.166|\n",
      "|  2|   Marylin|    Riggott|   mriggott1@npr.org|    Agender| 247.13.134.128|\n",
      "|  3|     Caryn|      Seals|cseals2@yellowpag...|     Female| 108.128.91.174|\n",
      "|  4|   Danella| MacConnell|dmacconnell3@reve...|     Female|  171.17.172.62|\n",
      "|  5|    Lesley|  Crookston| lcrookston4@psu.edu|     Female|  177.22.46.137|\n",
      "|  6|   Guthrie|   Coppock.|   gcoppock5@last.fm|       Male|  226.51.108.38|\n",
      "|  7|    Kaylee|    Claxton|kclaxton6@amazon....|     Female|   54.29.137.68|\n",
      "|  8|  Celestia|     Aldren|caldren7@slashdot...|     Female| 238.24.194.134|\n",
      "|  9|       Kim|   Alenikov|kalenikov8@macrom...|       Male| 131.168.221.50|\n",
      "| 10|      Nona|     Menloe|  nmenloe9@goo.ne.jp|     Female|113.215.167.138|\n",
      "| 11|       Joe|  Aynscombe| jaynscombea@who.int|       Male| 167.231.45.104|\n",
      "| 12|     Tonie|     Riches|   trichesb@java.com|     Female| 114.154.85.226|\n",
      "| 13|     Arlen|     Gwyllt| agwylltc@smh.com.au|       Male|   99.29.99.168|\n",
      "| 14|       Lee|   Groneway|lgronewayd@cpanel...|     Female|238.240.163.120|\n",
      "| 15|      Toni|   Dombrell|  tdombrelle@ihg.com|     Female|    72.51.37.98|\n",
      "| 16|     Salli|Marchington|smarchingtonf@stu...| Polygender|239.109.234.212|\n",
      "| 17|     Karil|      Tyler|      ktylerg@qq.com|     Female|   32.64.11.146|\n",
      "| 18|   Jourdan|   Chrystie|jchrystieh@stumbl...|     Female|237.250.119.237|\n",
      "| 19|     Costa|     Le Leu|cleleui@microsoft...|       Male|120.116.181.245|\n",
      "| 20|    Delmer|      Aizik|  daizikj@taobao.com|       Male| 223.137.167.74|\n",
      "+---+----------+-----------+--------------------+-----------+---------------+\n",
      "only showing top 20 rows\n",
      "\n"
     ]
    }
   ],
   "source": [
    "df_pyspark.show()"
   ]
  },
  {
   "cell_type": "code",
   "execution_count": 81,
   "id": "45a86529",
   "metadata": {},
   "outputs": [
    {
     "name": "stdout",
     "output_type": "stream",
     "text": [
      "+---+----------+-----------+--------------------+-----------+---------------+\n",
      "| id|first_name|  last_name|               email|     gender|     ip_address|\n",
      "+---+----------+-----------+--------------------+-----------+---------------+\n",
      "|  1|       Ava|        Ede| aede0@discovery.com|Genderqueer|145.255.246.166|\n",
      "|  2|   Marylin|    Riggott|   mriggott1@npr.org|    Agender| 247.13.134.128|\n",
      "|  3|     Caryn|      Seals|cseals2@yellowpag...|     Female| 108.128.91.174|\n",
      "|  4|   Danella| MacConnell|dmacconnell3@reve...|     Female|  171.17.172.62|\n",
      "|  5|    Lesley|  Crookston| lcrookston4@psu.edu|     Female|  177.22.46.137|\n",
      "|  6|   Guthrie|   Coppock.|   gcoppock5@last.fm|       Male|  226.51.108.38|\n",
      "|  7|    Kaylee|    Claxton|kclaxton6@amazon....|     Female|   54.29.137.68|\n",
      "|  8|  Celestia|     Aldren|caldren7@slashdot...|     Female| 238.24.194.134|\n",
      "|  9|       Kim|   Alenikov|kalenikov8@macrom...|       Male| 131.168.221.50|\n",
      "| 10|      Nona|     Menloe|  nmenloe9@goo.ne.jp|     Female|113.215.167.138|\n",
      "| 11|       Joe|  Aynscombe| jaynscombea@who.int|       Male| 167.231.45.104|\n",
      "| 12|     Tonie|     Riches|   trichesb@java.com|     Female| 114.154.85.226|\n",
      "| 13|     Arlen|     Gwyllt| agwylltc@smh.com.au|       Male|   99.29.99.168|\n",
      "| 14|       Lee|   Groneway|lgronewayd@cpanel...|     Female|238.240.163.120|\n",
      "| 15|      Toni|   Dombrell|  tdombrelle@ihg.com|     Female|    72.51.37.98|\n",
      "| 16|     Salli|Marchington|smarchingtonf@stu...| Polygender|239.109.234.212|\n",
      "| 17|     Karil|      Tyler|      ktylerg@qq.com|     Female|   32.64.11.146|\n",
      "| 18|   Jourdan|   Chrystie|jchrystieh@stumbl...|     Female|237.250.119.237|\n",
      "| 19|     Costa|     Le Leu|cleleui@microsoft...|       Male|120.116.181.245|\n",
      "| 20|    Delmer|      Aizik|  daizikj@taobao.com|       Male| 223.137.167.74|\n",
      "+---+----------+-----------+--------------------+-----------+---------------+\n",
      "only showing top 20 rows\n",
      "\n"
     ]
    }
   ],
   "source": [
    "df_pyspark.show()"
   ]
  },
  {
   "cell_type": "code",
   "execution_count": 96,
   "id": "8bae85c7",
   "metadata": {},
   "outputs": [],
   "source": [
    "#deleting a column\n",
    "df_pyspark=df_pyspark.drop(\"ip_address\")"
   ]
  },
  {
   "cell_type": "code",
   "execution_count": 99,
   "id": "2b94da96",
   "metadata": {},
   "outputs": [
    {
     "name": "stdout",
     "output_type": "stream",
     "text": [
      "+---+----------+-----------+--------------------+-----------+\n",
      "| id|first_name|  last_name|               email|     gender|\n",
      "+---+----------+-----------+--------------------+-----------+\n",
      "|  1|       Ava|        Ede| aede0@discovery.com|Genderqueer|\n",
      "|  2|   Marylin|    Riggott|   mriggott1@npr.org|    Agender|\n",
      "|  3|     Caryn|      Seals|cseals2@yellowpag...|     Female|\n",
      "|  4|   Danella| MacConnell|dmacconnell3@reve...|     Female|\n",
      "|  5|    Lesley|  Crookston| lcrookston4@psu.edu|     Female|\n",
      "|  6|   Guthrie|   Coppock.|   gcoppock5@last.fm|       Male|\n",
      "|  7|    Kaylee|    Claxton|kclaxton6@amazon....|     Female|\n",
      "|  8|  Celestia|     Aldren|caldren7@slashdot...|     Female|\n",
      "|  9|       Kim|   Alenikov|kalenikov8@macrom...|       Male|\n",
      "| 10|      Nona|     Menloe|  nmenloe9@goo.ne.jp|     Female|\n",
      "| 11|       Joe|  Aynscombe| jaynscombea@who.int|       Male|\n",
      "| 12|     Tonie|     Riches|   trichesb@java.com|     Female|\n",
      "| 13|     Arlen|     Gwyllt| agwylltc@smh.com.au|       Male|\n",
      "| 14|       Lee|   Groneway|lgronewayd@cpanel...|     Female|\n",
      "| 15|      Toni|   Dombrell|  tdombrelle@ihg.com|     Female|\n",
      "| 16|     Salli|Marchington|smarchingtonf@stu...| Polygender|\n",
      "| 17|     Karil|      Tyler|      ktylerg@qq.com|     Female|\n",
      "| 18|   Jourdan|   Chrystie|jchrystieh@stumbl...|     Female|\n",
      "| 19|     Costa|     Le Leu|cleleui@microsoft...|       Male|\n",
      "| 20|    Delmer|      Aizik|  daizikj@taobao.com|       Male|\n",
      "+---+----------+-----------+--------------------+-----------+\n",
      "only showing top 20 rows\n",
      "\n"
     ]
    }
   ],
   "source": [
    "df_pyspark.show()"
   ]
  },
  {
   "cell_type": "code",
   "execution_count": 101,
   "id": "fbbf5298",
   "metadata": {},
   "outputs": [
    {
     "name": "stdout",
     "output_type": "stream",
     "text": [
      "+---+----------+-----------+--------------------+-----------+\n",
      "| id|first_name|  last_name|               email|        sex|\n",
      "+---+----------+-----------+--------------------+-----------+\n",
      "|  1|       Ava|        Ede| aede0@discovery.com|Genderqueer|\n",
      "|  2|   Marylin|    Riggott|   mriggott1@npr.org|    Agender|\n",
      "|  3|     Caryn|      Seals|cseals2@yellowpag...|     Female|\n",
      "|  4|   Danella| MacConnell|dmacconnell3@reve...|     Female|\n",
      "|  5|    Lesley|  Crookston| lcrookston4@psu.edu|     Female|\n",
      "|  6|   Guthrie|   Coppock.|   gcoppock5@last.fm|       Male|\n",
      "|  7|    Kaylee|    Claxton|kclaxton6@amazon....|     Female|\n",
      "|  8|  Celestia|     Aldren|caldren7@slashdot...|     Female|\n",
      "|  9|       Kim|   Alenikov|kalenikov8@macrom...|       Male|\n",
      "| 10|      Nona|     Menloe|  nmenloe9@goo.ne.jp|     Female|\n",
      "| 11|       Joe|  Aynscombe| jaynscombea@who.int|       Male|\n",
      "| 12|     Tonie|     Riches|   trichesb@java.com|     Female|\n",
      "| 13|     Arlen|     Gwyllt| agwylltc@smh.com.au|       Male|\n",
      "| 14|       Lee|   Groneway|lgronewayd@cpanel...|     Female|\n",
      "| 15|      Toni|   Dombrell|  tdombrelle@ihg.com|     Female|\n",
      "| 16|     Salli|Marchington|smarchingtonf@stu...| Polygender|\n",
      "| 17|     Karil|      Tyler|      ktylerg@qq.com|     Female|\n",
      "| 18|   Jourdan|   Chrystie|jchrystieh@stumbl...|     Female|\n",
      "| 19|     Costa|     Le Leu|cleleui@microsoft...|       Male|\n",
      "| 20|    Delmer|      Aizik|  daizikj@taobao.com|       Male|\n",
      "+---+----------+-----------+--------------------+-----------+\n",
      "only showing top 20 rows\n",
      "\n"
     ]
    }
   ],
   "source": [
    "#renaming a column\n",
    "df_pyspark.withColumnRenamed(\"gender\",\"sex\").show()"
   ]
  },
  {
   "cell_type": "code",
   "execution_count": null,
   "id": "71f08e9c",
   "metadata": {},
   "outputs": [],
   "source": []
  },
  {
   "cell_type": "code",
   "execution_count": null,
   "id": "8a82ba3b",
   "metadata": {},
   "outputs": [],
   "source": []
  },
  {
   "cell_type": "code",
   "execution_count": null,
   "id": "9fa2a37b",
   "metadata": {},
   "outputs": [],
   "source": []
  }
 ],
 "metadata": {
  "kernelspec": {
   "display_name": "Python 3 (ipykernel)",
   "language": "python",
   "name": "python3"
  },
  "language_info": {
   "codemirror_mode": {
    "name": "ipython",
    "version": 3
   },
   "file_extension": ".py",
   "mimetype": "text/x-python",
   "name": "python",
   "nbconvert_exporter": "python",
   "pygments_lexer": "ipython3",
   "version": "3.9.13"
  }
 },
 "nbformat": 4,
 "nbformat_minor": 5
}
